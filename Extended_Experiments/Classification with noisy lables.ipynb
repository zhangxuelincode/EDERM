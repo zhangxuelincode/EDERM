{
 "cells": [
  {
   "cell_type": "code",
   "execution_count": 1,
   "metadata": {
    "colab": {},
    "colab_type": "code",
    "id": "-1_8VZgpEtea"
   },
   "outputs": [],
   "source": [
    "import numpy as np\n",
    "import pandas as pd\n",
    "import matplotlib.pyplot as plt\n",
    "\n",
    "import torch\n",
    "import torch.nn as nn\n",
    "from torch.autograd import Variable\n",
    "import torchvision\n",
    "import torchvision.transforms as transforms\n",
    "from torch.utils.data import Dataset, DataLoader\n",
    "from sklearn.metrics import confusion_matrix"
   ]
  },
  {
   "cell_type": "code",
   "execution_count": 2,
   "metadata": {
    "colab": {},
    "colab_type": "code",
    "id": "q6btjJ9YTXXw"
   },
   "outputs": [],
   "source": [
    "device = torch.device(\"cuda:0\" if torch.cuda.is_available() else \"cpu\")"
   ]
  },
  {
   "cell_type": "code",
   "execution_count": 3,
   "metadata": {
    "colab": {
     "base_uri": "https://localhost:8080/",
     "height": 413
    },
    "colab_type": "code",
    "id": "PV2g1_8qUDvA",
    "outputId": "b429a123-7574-413d-d15a-92f0481e6753"
   },
   "outputs": [],
   "source": [
    "train_csv = pd.read_csv(\"./fashion-mnist_train.csv\")\n",
    "test_csv = pd.read_csv(\"./fashion-mnist_test.csv\")"
   ]
  },
  {
   "cell_type": "code",
   "execution_count": 4,
   "metadata": {
    "colab": {},
    "colab_type": "code",
    "id": "3Q36xjPfeo0a"
   },
   "outputs": [],
   "source": [
    "import random\n",
    " \n",
    "class FashionDataset(Dataset):\n",
    "    \"\"\"User defined class to build a datset using Pytorch class Dataset.\"\"\"\n",
    "    \n",
    "    def __init__(self, data, corruption_rate,transform = None):\n",
    "        \"\"\"Method to initilaize variables.\"\"\" \n",
    "        self.fashion_MNIST = list(data.values)\n",
    "        self.transform = transform\n",
    "        \n",
    "        label = []\n",
    "        image = []\n",
    "        \n",
    "        for i in self.fashion_MNIST:\n",
    "             # first column is of labels.\n",
    "            label.append(i[0])\n",
    "            image.append(i[1:])\n",
    "        self.labels = np.asarray(label)\n",
    "        # Dimension of Images = 28 * 28 * 1. where height = width = 28 and color_channels = 1.\n",
    "        self.images = np.asarray(image).reshape(-1, 28, 28, 1).astype('float32')\n",
    "#         print(self.labels)\n",
    "        corruption_index = random.sample(range(1, len(self.labels)), int(len(self.labels)*corruption_rate))\n",
    "#         print(corruption_index)\n",
    "#         print(self.labels[corruption_index])\n",
    "        self.labels[corruption_index] = (self.labels[corruption_index]+1)%10\n",
    "#         print(self.labels[corruption_index])\n",
    "        print(len(corruption_index))\n",
    "        \n",
    "        \n",
    "    def __getitem__(self, index):\n",
    "        label = self.labels[index]\n",
    "        image = self.images[index]\n",
    "        \n",
    "        if self.transform is not None:\n",
    "            image = self.transform(image)\n",
    "\n",
    "        return image, label\n",
    "\n",
    "    def __len__(self):\n",
    "        return len(self.images)"
   ]
  },
  {
   "cell_type": "code",
   "execution_count": 5,
   "metadata": {
    "colab": {},
    "colab_type": "code",
    "id": "uLeNwQWJkFkQ"
   },
   "outputs": [
    {
     "name": "stdout",
     "output_type": "stream",
     "text": [
      "18000\n",
      "0\n"
     ]
    }
   ],
   "source": [
    "train_set = FashionDataset(train_csv, corruption_rate=0.3, transform=transforms.Compose([transforms.ToTensor()]))\n",
    "test_set = FashionDataset(test_csv, corruption_rate=0,  transform=transforms.Compose([transforms.ToTensor()]))\n",
    "\n",
    "\n",
    "train_loader = DataLoader(train_set, batch_size=64)\n",
    "\n",
    "test_loader = DataLoader(test_set, batch_size=64)"
   ]
  },
  {
   "cell_type": "code",
   "execution_count": 9,
   "metadata": {
    "colab": {},
    "colab_type": "code",
    "id": "hyCH0Q4hSgFB"
   },
   "outputs": [],
   "source": [
    "class FashionCNN(nn.Module):\n",
    "    \n",
    "    def __init__(self):\n",
    "        super(FashionCNN, self).__init__()\n",
    "        \n",
    "        self.layer1 = nn.Sequential(\n",
    "            nn.Conv2d(in_channels=1, out_channels=32, kernel_size=3, padding=1),\n",
    "            nn.BatchNorm2d(32),\n",
    "            nn.ReLU(),\n",
    "            nn.MaxPool2d(kernel_size=2, stride=2)\n",
    "        )\n",
    "        \n",
    "        self.layer2 = nn.Sequential(\n",
    "            nn.Conv2d(in_channels=32, out_channels=64, kernel_size=3),\n",
    "            nn.BatchNorm2d(64),\n",
    "            nn.ReLU(),\n",
    "            nn.MaxPool2d(2)\n",
    "        )\n",
    "        \n",
    "        self.fc1 = nn.Linear(in_features=64*6*6, out_features=600)\n",
    "        self.drop = nn.Dropout2d(0.25)\n",
    "        self.fc2 = nn.Linear(in_features=600, out_features=120)\n",
    "        self.fc3 = nn.Linear(in_features=120, out_features=10)\n",
    "        \n",
    "    def forward(self, x):\n",
    "        out = self.layer1(x)\n",
    "        out = self.layer2(out)\n",
    "        out = out.view(out.size(0), -1)\n",
    "        out = self.fc1(out)\n",
    "        out = self.drop(out)\n",
    "        out = self.fc2(out)\n",
    "        out = self.fc3(out)\n",
    "        \n",
    "        return out\n"
   ]
  },
  {
   "cell_type": "code",
   "execution_count": 10,
   "metadata": {
    "colab": {
     "base_uri": "https://localhost:8080/",
     "height": 345
    },
    "colab_type": "code",
    "id": "NILDHzNgQ1Gt",
    "outputId": "d16327ae-e7d2-4c46-bffe-e9724272c51d"
   },
   "outputs": [
    {
     "name": "stdout",
     "output_type": "stream",
     "text": [
      "FashionCNN(\n",
      "  (layer1): Sequential(\n",
      "    (0): Conv2d(1, 32, kernel_size=(3, 3), stride=(1, 1), padding=(1, 1))\n",
      "    (1): BatchNorm2d(32, eps=1e-05, momentum=0.1, affine=True, track_running_stats=True)\n",
      "    (2): ReLU()\n",
      "    (3): MaxPool2d(kernel_size=2, stride=2, padding=0, dilation=1, ceil_mode=False)\n",
      "  )\n",
      "  (layer2): Sequential(\n",
      "    (0): Conv2d(32, 64, kernel_size=(3, 3), stride=(1, 1))\n",
      "    (1): BatchNorm2d(64, eps=1e-05, momentum=0.1, affine=True, track_running_stats=True)\n",
      "    (2): ReLU()\n",
      "    (3): MaxPool2d(kernel_size=2, stride=2, padding=0, dilation=1, ceil_mode=False)\n",
      "  )\n",
      "  (fc1): Linear(in_features=2304, out_features=600, bias=True)\n",
      "  (drop): Dropout2d(p=0.25, inplace=False)\n",
      "  (fc2): Linear(in_features=600, out_features=120, bias=True)\n",
      "  (fc3): Linear(in_features=120, out_features=10, bias=True)\n",
      ")\n"
     ]
    }
   ],
   "source": [
    "model = FashionCNN()\n",
    "model.to(device)\n",
    "\n",
    "error = nn.CrossEntropyLoss()\n",
    "\n",
    "\n",
    "optimizer = torch.optim.Adam(model.parameters(), lr= 0.0005)\n",
    "print(model)"
   ]
  },
  {
   "cell_type": "code",
   "execution_count": 11,
   "metadata": {
    "colab": {
     "base_uri": "https://localhost:8080/",
     "height": 126
    },
    "colab_type": "code",
    "id": "SYh_6HtpUlNl",
    "outputId": "b92aa41b-4cbf-4ceb-c63c-7d2a3999df87",
    "scrolled": true
   },
   "outputs": [
    {
     "name": "stdout",
     "output_type": "stream",
     "text": [
      "Iteration: 50, Loss: 1.3054170608520508, Accuracy: 70%\n",
      "Iteration: 100, Loss: 1.0984824895858765, Accuracy: 72%\n",
      "Iteration: 150, Loss: 1.13750422000885, Accuracy: 72%\n",
      "Iteration: 200, Loss: 1.2899326086044312, Accuracy: 75%\n",
      "Iteration: 250, Loss: 1.1517395973205566, Accuracy: 75%\n",
      "Iteration: 300, Loss: 1.1425652503967285, Accuracy: 71%\n",
      "Iteration: 350, Loss: 1.0326789617538452, Accuracy: 76%\n",
      "Iteration: 400, Loss: 1.0379301309585571, Accuracy: 70%\n",
      "Iteration: 450, Loss: 1.1679595708847046, Accuracy: 73%\n",
      "Iteration: 500, Loss: 1.1760869026184082, Accuracy: 80%\n",
      "Iteration: 550, Loss: 1.0734575986862183, Accuracy: 76%\n",
      "Iteration: 600, Loss: 1.0259175300598145, Accuracy: 78%\n",
      "Iteration: 650, Loss: 0.946176290512085, Accuracy: 76%\n",
      "Iteration: 700, Loss: 1.0907738208770752, Accuracy: 79%\n",
      "Iteration: 750, Loss: 1.009406566619873, Accuracy: 74%\n",
      "Iteration: 800, Loss: 1.1594483852386475, Accuracy: 76%\n",
      "Iteration: 850, Loss: 1.0026648044586182, Accuracy: 75%\n",
      "Iteration: 900, Loss: 1.0064709186553955, Accuracy: 78%\n",
      "Iteration: 950, Loss: 0.9767090082168579, Accuracy: 77%\n",
      "Iteration: 1000, Loss: 0.9892516732215881, Accuracy: 81%\n",
      "Iteration: 1050, Loss: 0.9530025720596313, Accuracy: 73%\n",
      "Iteration: 1100, Loss: 1.0221210718154907, Accuracy: 75%\n",
      "Iteration: 1150, Loss: 0.9771994948387146, Accuracy: 80%\n",
      "Iteration: 1200, Loss: 0.9132084846496582, Accuracy: 80%\n",
      "Iteration: 1250, Loss: 1.1306564807891846, Accuracy: 78%\n",
      "Iteration: 1300, Loss: 1.0477012395858765, Accuracy: 79%\n",
      "Iteration: 1350, Loss: 0.8880335092544556, Accuracy: 80%\n",
      "Iteration: 1400, Loss: 1.0210250616073608, Accuracy: 79%\n",
      "Iteration: 1450, Loss: 1.0261121988296509, Accuracy: 80%\n",
      "Iteration: 1500, Loss: 0.9131458401679993, Accuracy: 79%\n",
      "Iteration: 1550, Loss: 1.029067873954773, Accuracy: 81%\n",
      "Iteration: 1600, Loss: 0.9912834167480469, Accuracy: 81%\n",
      "Iteration: 1650, Loss: 1.195680022239685, Accuracy: 76%\n",
      "Iteration: 1700, Loss: 0.9127314686775208, Accuracy: 83%\n",
      "Iteration: 1750, Loss: 0.8447906374931335, Accuracy: 77%\n",
      "Iteration: 1800, Loss: 1.0167453289031982, Accuracy: 82%\n",
      "Iteration: 1850, Loss: 0.8617010116577148, Accuracy: 77%\n",
      "Iteration: 1900, Loss: 0.8360388278961182, Accuracy: 84%\n",
      "Iteration: 1950, Loss: 0.9517977237701416, Accuracy: 81%\n",
      "Iteration: 2000, Loss: 0.8552554845809937, Accuracy: 78%\n",
      "Iteration: 2050, Loss: 0.8748512268066406, Accuracy: 80%\n",
      "Iteration: 2100, Loss: 1.1386802196502686, Accuracy: 77%\n",
      "Iteration: 2150, Loss: 0.8595827221870422, Accuracy: 80%\n",
      "Iteration: 2200, Loss: 0.8320323824882507, Accuracy: 74%\n",
      "Iteration: 2250, Loss: 0.8861120939254761, Accuracy: 76%\n",
      "Iteration: 2300, Loss: 0.9856383204460144, Accuracy: 81%\n",
      "Iteration: 2350, Loss: 0.893380343914032, Accuracy: 81%\n",
      "Iteration: 2400, Loss: 1.1988317966461182, Accuracy: 80%\n",
      "Iteration: 2450, Loss: 1.133170247077942, Accuracy: 83%\n",
      "Iteration: 2500, Loss: 1.0313940048217773, Accuracy: 76%\n",
      "Iteration: 2550, Loss: 0.9641703963279724, Accuracy: 81%\n",
      "Iteration: 2600, Loss: 0.9538305997848511, Accuracy: 80%\n",
      "Iteration: 2650, Loss: 1.0116907358169556, Accuracy: 74%\n",
      "Iteration: 2700, Loss: 0.8871626257896423, Accuracy: 79%\n",
      "Iteration: 2750, Loss: 0.8667590022087097, Accuracy: 78%\n",
      "Iteration: 2800, Loss: 0.9687767624855042, Accuracy: 73%\n",
      "Iteration: 2850, Loss: 0.8851714730262756, Accuracy: 82%\n",
      "Iteration: 2900, Loss: 0.7538262009620667, Accuracy: 83%\n",
      "Iteration: 2950, Loss: 0.9045875072479248, Accuracy: 80%\n",
      "Iteration: 3000, Loss: 1.0966229438781738, Accuracy: 81%\n",
      "Iteration: 3050, Loss: 0.8530726432800293, Accuracy: 79%\n",
      "Iteration: 3100, Loss: 0.9096567630767822, Accuracy: 81%\n",
      "Iteration: 3150, Loss: 0.9107041358947754, Accuracy: 78%\n",
      "Iteration: 3200, Loss: 0.9508183002471924, Accuracy: 82%\n",
      "Iteration: 3250, Loss: 1.0171592235565186, Accuracy: 80%\n",
      "Iteration: 3300, Loss: 0.994886577129364, Accuracy: 78%\n",
      "Iteration: 3350, Loss: 0.8399075865745544, Accuracy: 79%\n",
      "Iteration: 3400, Loss: 0.8457041382789612, Accuracy: 81%\n",
      "Iteration: 3450, Loss: 0.9035533666610718, Accuracy: 79%\n",
      "Iteration: 3500, Loss: 0.8656566739082336, Accuracy: 83%\n",
      "Iteration: 3550, Loss: 1.1443135738372803, Accuracy: 76%\n",
      "Iteration: 3600, Loss: 0.9246931076049805, Accuracy: 78%\n",
      "Iteration: 3650, Loss: 0.8397746682167053, Accuracy: 80%\n",
      "Iteration: 3700, Loss: 1.0380535125732422, Accuracy: 74%\n",
      "Iteration: 3750, Loss: 0.7499917149543762, Accuracy: 77%\n",
      "Iteration: 3800, Loss: 0.9569308757781982, Accuracy: 79%\n",
      "Iteration: 3850, Loss: 0.8237193822860718, Accuracy: 84%\n",
      "Iteration: 3900, Loss: 0.8698063492774963, Accuracy: 78%\n",
      "Iteration: 3950, Loss: 0.9617403745651245, Accuracy: 78%\n",
      "Iteration: 4000, Loss: 1.0237289667129517, Accuracy: 78%\n",
      "Iteration: 4050, Loss: 0.9739466905593872, Accuracy: 77%\n",
      "Iteration: 4100, Loss: 1.0321345329284668, Accuracy: 80%\n",
      "Iteration: 4150, Loss: 0.8208454847335815, Accuracy: 76%\n",
      "Iteration: 4200, Loss: 0.9410836100578308, Accuracy: 76%\n",
      "Iteration: 4250, Loss: 0.9143997430801392, Accuracy: 84%\n",
      "Iteration: 4300, Loss: 1.0743672847747803, Accuracy: 78%\n",
      "Iteration: 4350, Loss: 0.8000339865684509, Accuracy: 77%\n",
      "Iteration: 4400, Loss: 0.9300565123558044, Accuracy: 77%\n",
      "Iteration: 4450, Loss: 0.9137566089630127, Accuracy: 84%\n",
      "Iteration: 4500, Loss: 0.9889087677001953, Accuracy: 75%\n",
      "Iteration: 4550, Loss: 0.8481897711753845, Accuracy: 78%\n",
      "Iteration: 4600, Loss: 0.8245111107826233, Accuracy: 81%\n",
      "Iteration: 4650, Loss: 0.9643015265464783, Accuracy: 76%\n"
     ]
    }
   ],
   "source": [
    "num_epochs = 5\n",
    "count = 0\n",
    "# Lists for visualization of loss and accuracy \n",
    "loss_list = []\n",
    "iteration_list = []\n",
    "accuracy_list = []\n",
    "\n",
    "# Lists for knowing classwise accuracy\n",
    "predictions_list = []\n",
    "labels_list = []\n",
    "\n",
    "for epoch in range(num_epochs):\n",
    "    for images, labels in train_loader:\n",
    "        # Transfering images and labels to GPU if available\n",
    "        images, labels = images.to(device), labels.to(device)\n",
    "    \n",
    "        train = Variable(images.view(-1, 1, 28, 28))\n",
    "        labels = Variable(labels)\n",
    "\n",
    "        # Forward pass \n",
    "        outputs = model(train)\n",
    "        loss = error(outputs, labels)\n",
    "        \n",
    "        # Initializing a gradient as 0 so there is no mixing of gradient among the batches\n",
    "        optimizer.zero_grad()\n",
    "        \n",
    "        #Propagating the error backward\n",
    "        loss.backward()\n",
    "        \n",
    "        # Optimizing the parameters\n",
    "        optimizer.step()\n",
    "    \n",
    "        count += 1\n",
    "    \n",
    "    # Testing the model\n",
    "    \n",
    "        if not (count % 50):    # It's same as \"if count % 50 == 0\"\n",
    "            total = 0\n",
    "            correct = 0\n",
    "        \n",
    "            for images, labels in test_loader:\n",
    "                images, labels = images.to(device), labels.to(device)\n",
    "                labels_list.append(labels)\n",
    "            \n",
    "                test = Variable(images.view(-1, 1, 28, 28))\n",
    "            \n",
    "                outputs = model(test)\n",
    "            \n",
    "                predictions = torch.max(outputs, 1)[1].to(device)\n",
    "                predictions_list.append(predictions)\n",
    "                correct += (predictions == labels).sum()\n",
    "            \n",
    "                total += len(labels)\n",
    "            \n",
    "            accuracy = correct * 100 / total\n",
    "            loss_list.append(loss.data)\n",
    "            iteration_list.append(count)\n",
    "            accuracy_list.append(accuracy)\n",
    "            print(\"Iteration: {}, Loss: {}, Accuracy: {}%\".format(count, loss.data, accuracy))\n"
   ]
  },
  {
   "cell_type": "code",
   "execution_count": 12,
   "metadata": {
    "colab": {
     "base_uri": "https://localhost:8080/",
     "height": 295
    },
    "colab_type": "code",
    "id": "4s4cGX4Hanyz",
    "outputId": "4f19caa4-327f-4cca-bd9f-726774b9ddfd"
   },
   "outputs": [
    {
     "data": {
      "image/png": "[encoded data removed]",
      "text/plain": [
       "<Figure size 432x288 with 1 Axes>"
      ]
     },
     "metadata": {
      "needs_background": "light"
     },
     "output_type": "display_data"
    }
   ],
   "source": [
    "plt.plot(iteration_list, loss_list)\n",
    "plt.xlabel(\"No. of Iteration\")\n",
    "plt.ylabel(\"Loss\")\n",
    "plt.title(\"Iterations vs Loss\")\n",
    "plt.show()"
   ]
  },
  {
   "cell_type": "code",
   "execution_count": 13,
   "metadata": {
    "colab": {
     "base_uri": "https://localhost:8080/",
     "height": 295
    },
    "colab_type": "code",
    "id": "TtsjkmY8qo_t",
    "outputId": "18a10340-f465-4c80-db26-cdce0201e347"
   },
   "outputs": [
    {
     "data": {
      "image/png": "[encoded data removed]",
      "text/plain": [
       "<Figure size 432x288 with 1 Axes>"
      ]
     },
     "metadata": {
      "needs_background": "light"
     },
     "output_type": "display_data"
    }
   ],
   "source": [
    "plt.plot(iteration_list, accuracy_list)\n",
    "plt.xlabel(\"No. of Iteration\")\n",
    "plt.ylabel(\"Accuracy\")\n",
    "plt.title(\"Iterations vs Accuracy\")\n",
    "plt.show()"
   ]
  },
  {
   "cell_type": "code",
   "execution_count": 18,
   "metadata": {
    "colab": {
     "base_uri": "https://localhost:8080/",
     "height": 199
    },
    "colab_type": "code",
    "id": "Mq9_qes8Qg6h",
    "outputId": "fd7e3194-d5ab-4c3d-8693-ced0369df983"
   },
   "outputs": [
    {
     "name": "stdout",
     "output_type": "stream",
     "text": [
      "FashionCNN(\n",
      "  (layer1): Sequential(\n",
      "    (0): Conv2d(1, 32, kernel_size=(3, 3), stride=(1, 1), padding=(1, 1))\n",
      "    (1): BatchNorm2d(32, eps=1e-05, momentum=0.1, affine=True, track_running_stats=True)\n",
      "    (2): ReLU()\n",
      "    (3): MaxPool2d(kernel_size=2, stride=2, padding=0, dilation=1, ceil_mode=False)\n",
      "  )\n",
      "  (layer2): Sequential(\n",
      "    (0): Conv2d(32, 64, kernel_size=(3, 3), stride=(1, 1))\n",
      "    (1): BatchNorm2d(64, eps=1e-05, momentum=0.1, affine=True, track_running_stats=True)\n",
      "    (2): ReLU()\n",
      "    (3): MaxPool2d(kernel_size=2, stride=2, padding=0, dilation=1, ceil_mode=False)\n",
      "  )\n",
      "  (fc1): Linear(in_features=2304, out_features=600, bias=True)\n",
      "  (drop): Dropout2d(p=0.25, inplace=False)\n",
      "  (fc2): Linear(in_features=600, out_features=120, bias=True)\n",
      "  (fc3): Linear(in_features=120, out_features=10, bias=True)\n",
      ")\n"
     ]
    }
   ],
   "source": [
    "model = FashionCNN()\n",
    "model.to(device)\n",
    "\n",
    "import torch.optim as optim\n",
    "import math\n",
    "\n",
    "\n",
    "# fai    =  np.zeros(batch_size) #final error density\n",
    "# IC     =  np.zeros(batch_size)\n",
    "\n",
    "h=0.1\n",
    "delta=3\n",
    "# batch_size=64\n",
    "lamb=1\n",
    "\n",
    "class CustomCrossEntropyLoss(torch.nn.Module):\n",
    "    def __init__(self):\n",
    "        super(CustomCrossEntropyLoss, self).__init__()\n",
    "\n",
    "    def forward(self, inputs, targets):\n",
    "        batch_size=len(inputs)\n",
    "        fai    =  np.zeros(batch_size) \n",
    "        # 手动实现交叉熵损失函数\n",
    "        log_softmax = inputs.log_softmax(dim=1)\n",
    "        # loss = -log_softmax[torch.arange(log_softmax.size(0)), targets].mean()\n",
    "        loss = -log_softmax[torch.arange(log_softmax.size(0)), targets]\n",
    "        IC=loss-loss\n",
    "        # print(loss)\n",
    "        for i in range(batch_size):\n",
    "            for j in range(batch_size):\n",
    "                fai[i]  = fai[i]  + (1/(batch_size*h))* math.exp((loss[i]-loss[j])**2/(-2*h*h))\n",
    "#             IC[i]   = (1-math.exp((1-lamb+fai[i])**2/(-2*delta*delta)))/(1-math.exp(1/(-2*delta*delta)))\n",
    "#             lamb = fai.max()*0.95\n",
    "            IC[i]   = 1 / (1 + math.exp(-delta * (fai[i] - lamb)))\n",
    "        loss_EDERM = (loss*IC).mean()\n",
    "#         print(fai)\n",
    "#         print(\"IC\",IC)\n",
    "#         print(\"loss\",loss)\n",
    "#         print(loss*IC)\n",
    "        return loss_EDERM\n",
    "\n",
    "error   = CustomCrossEntropyLoss() # 创建损失函数\n",
    "\n",
    "# error = nn.CrossEntropyLoss()\n",
    "\n",
    "optimizer = optim.RMSprop(model.parameters(), lr=0.0005, momentum=0.9)\n",
    "print(model)"
   ]
  },
  {
   "cell_type": "code",
   "execution_count": null,
   "metadata": {
    "scrolled": true
   },
   "outputs": [
    {
     "name": "stdout",
     "output_type": "stream",
     "text": [
      "Iteration: 50, Loss: 0.5334485769271851, Accuracy: 52%\n",
      "Iteration: 100, Loss: 0.2979891300201416, Accuracy: 62%\n",
      "Iteration: 150, Loss: 0.2945244610309601, Accuracy: 61%\n",
      "Iteration: 200, Loss: 0.22874918580055237, Accuracy: 69%\n",
      "Iteration: 250, Loss: 0.2490035593509674, Accuracy: 73%\n",
      "Iteration: 300, Loss: 0.25843098759651184, Accuracy: 75%\n",
      "Iteration: 350, Loss: 0.2563641369342804, Accuracy: 70%\n",
      "Iteration: 400, Loss: 0.23088125884532928, Accuracy: 77%\n",
      "Iteration: 450, Loss: 0.3752119541168213, Accuracy: 76%\n",
      "Iteration: 500, Loss: 0.25852054357528687, Accuracy: 79%\n",
      "Iteration: 550, Loss: 0.2722333073616028, Accuracy: 77%\n",
      "Iteration: 600, Loss: 0.23381586372852325, Accuracy: 81%\n",
      "Iteration: 650, Loss: 0.19812838733196259, Accuracy: 82%\n",
      "Iteration: 700, Loss: 0.205873042345047, Accuracy: 81%\n",
      "Iteration: 750, Loss: 0.19635918736457825, Accuracy: 82%\n",
      "Iteration: 800, Loss: 0.2438068687915802, Accuracy: 82%\n",
      "Iteration: 850, Loss: 0.24344943463802338, Accuracy: 84%\n",
      "Iteration: 900, Loss: 0.22459200024604797, Accuracy: 83%\n",
      "Iteration: 950, Loss: 0.21709346771240234, Accuracy: 81%\n",
      "Iteration: 1000, Loss: 0.20070447027683258, Accuracy: 83%\n",
      "Iteration: 1050, Loss: 0.3040124773979187, Accuracy: 72%\n",
      "Iteration: 1100, Loss: 0.2379205822944641, Accuracy: 80%\n",
      "Iteration: 1150, Loss: 0.21851447224617004, Accuracy: 82%\n",
      "Iteration: 1200, Loss: 0.185148686170578, Accuracy: 82%\n",
      "Iteration: 1250, Loss: 0.29563236236572266, Accuracy: 83%\n",
      "Iteration: 1300, Loss: 0.24374018609523773, Accuracy: 81%\n",
      "Iteration: 1350, Loss: 0.21667823195457458, Accuracy: 81%\n",
      "Iteration: 1400, Loss: 0.21428807079792023, Accuracy: 81%\n",
      "Iteration: 1450, Loss: 0.21593686938285828, Accuracy: 78%\n",
      "Iteration: 1500, Loss: 0.19858673214912415, Accuracy: 82%\n",
      "Iteration: 1550, Loss: 0.2584359645843506, Accuracy: 80%\n",
      "Iteration: 1600, Loss: 0.17289894819259644, Accuracy: 84%\n",
      "Iteration: 1650, Loss: 0.2507556080818176, Accuracy: 79%\n",
      "Iteration: 1700, Loss: 0.1938861906528473, Accuracy: 82%\n",
      "Iteration: 1750, Loss: 0.2127189189195633, Accuracy: 79%\n",
      "Iteration: 1800, Loss: 0.28030407428741455, Accuracy: 84%\n",
      "Iteration: 1850, Loss: 0.2131764441728592, Accuracy: 80%\n",
      "Iteration: 1900, Loss: 0.20453590154647827, Accuracy: 81%\n",
      "Iteration: 1950, Loss: 0.1984545737504959, Accuracy: 82%\n",
      "Iteration: 2000, Loss: 0.19443495571613312, Accuracy: 81%\n",
      "Iteration: 2050, Loss: 0.17193405330181122, Accuracy: 79%\n",
      "Iteration: 2100, Loss: 0.24355432391166687, Accuracy: 84%\n",
      "Iteration: 2150, Loss: 0.17410802841186523, Accuracy: 83%\n",
      "Iteration: 2200, Loss: 0.19251592457294464, Accuracy: 84%\n",
      "Iteration: 2250, Loss: 0.19072702527046204, Accuracy: 84%\n",
      "Iteration: 2300, Loss: 0.20249521732330322, Accuracy: 84%\n",
      "Iteration: 2350, Loss: 0.17725607752799988, Accuracy: 83%\n",
      "Iteration: 2400, Loss: 0.34364116191864014, Accuracy: 80%\n",
      "Iteration: 2450, Loss: 0.20405498147010803, Accuracy: 82%\n",
      "Iteration: 2500, Loss: 0.22844773530960083, Accuracy: 79%\n",
      "Iteration: 2550, Loss: 0.19555509090423584, Accuracy: 82%\n",
      "Iteration: 2600, Loss: 0.22882595658302307, Accuracy: 81%\n",
      "Iteration: 2650, Loss: 0.19727200269699097, Accuracy: 77%\n",
      "Iteration: 2700, Loss: 0.199489027261734, Accuracy: 82%\n",
      "Iteration: 2750, Loss: 0.2519885003566742, Accuracy: 84%\n",
      "Iteration: 2800, Loss: 0.17430807650089264, Accuracy: 82%\n",
      "Iteration: 2850, Loss: 0.15564005076885223, Accuracy: 79%\n",
      "Iteration: 2900, Loss: 0.20029042661190033, Accuracy: 84%\n",
      "Iteration: 2950, Loss: 0.18976743519306183, Accuracy: 78%\n",
      "Iteration: 3000, Loss: 0.217543825507164, Accuracy: 78%\n"
     ]
    }
   ],
   "source": [
    "num_epochs = 5\n",
    "count = 0\n",
    "# Lists for visualization of loss and accuracy \n",
    "loss_list = []\n",
    "iteration_list = []\n",
    "accuracy_list = []\n",
    "\n",
    "# Lists for knowing classwise accuracy\n",
    "predictions_list = []\n",
    "labels_list = []\n",
    "\n",
    "for epoch in range(num_epochs):\n",
    "    for images, labels in train_loader:\n",
    "        # Transfering images and labels to GPU if available\n",
    "        images, labels = images.to(device), labels.to(device)\n",
    "    \n",
    "        train = Variable(images.view(-1, 1, 28, 28))\n",
    "        labels = Variable(labels)\n",
    "        \n",
    "        # Forward pass \n",
    "        outputs = model(train)\n",
    "        loss = error(outputs, labels)\n",
    "        \n",
    "        # Initializing a gradient as 0 so there is no mixing of gradient among the batches\n",
    "        optimizer.zero_grad()\n",
    "        \n",
    "        #Propagating the error backward\n",
    "        loss.backward()\n",
    "        \n",
    "        # Optimizing the parameters\n",
    "        optimizer.step()\n",
    "    \n",
    "        count += 1\n",
    "    \n",
    "    # Testing the model\n",
    "    \n",
    "        if not (count % 50):    # It's same as \"if count % 50 == 0\"\n",
    "            total = 0\n",
    "            correct = 0\n",
    "        \n",
    "            for images, labels in test_loader:\n",
    "                images, labels = images.to(device), labels.to(device)\n",
    "                labels_list.append(labels)\n",
    "            \n",
    "                test = Variable(images.view(-1, 1, 28, 28))\n",
    "            \n",
    "                outputs = model(test)\n",
    "            \n",
    "                predictions = torch.max(outputs, 1)[1].to(device)\n",
    "                predictions_list.append(predictions)\n",
    "                correct += (predictions == labels).sum()\n",
    "            \n",
    "                total += len(labels)\n",
    "            \n",
    "            accuracy = correct * 100 / total\n",
    "            loss_list.append(loss.data)\n",
    "            iteration_list.append(count)\n",
    "            accuracy_list.append(accuracy)\n",
    "#             print(\"Iteration: {}, Loss: {}, Accuracy: {}%, fai:{}, batchloss:{},IC:{}\".format(count, loss.data, accuracy,fai,losses,IC))\n",
    "            print(\"Iteration: {}, Loss: {}, Accuracy: {}%\".format(count, loss.data, accuracy))\n"
   ]
  }
 ],
 "metadata": {
  "accelerator": "GPU",
  "colab": {
   "collapsed_sections": [],
   "name": "fashion_MNIST.ipynb",
   "provenance": [],
   "version": "0.3.2"
  },
  "kernelspec": {
   "display_name": "Python 3",
   "language": "python",
   "name": "python3"
  },
  "language_info": {
   "codemirror_mode": {
    "name": "ipython",
    "version": 3
   },
   "file_extension": ".py",
   "mimetype": "text/x-python",
   "name": "python",
   "nbconvert_exporter": "python",
   "pygments_lexer": "ipython3",
   "version": "3.6.12"
  }
 },
 "nbformat": 4,
 "nbformat_minor": 1
}
